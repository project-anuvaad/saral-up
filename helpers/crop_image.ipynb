{
 "cells": [
  {
   "cell_type": "code",
   "execution_count": 506,
   "metadata": {
    "scrolled": true
   },
   "outputs": [],
   "source": [
    "# from PIL import Image \n",
    "import PIL.Image\n",
    "from PIL import Image\n",
    "from IPython.display import display"
   ]
  },
  {
   "cell_type": "code",
   "execution_count": 507,
   "metadata": {},
   "outputs": [],
   "source": [
    "img = Image.open('table_yvt.jpg') \n"
   ]
  },
  {
   "cell_type": "code",
   "execution_count": 508,
   "metadata": {},
   "outputs": [],
   "source": [
    "# left   = 90\n",
    "# top    = 30\n",
    "# right  = 113\n",
    "# bottom = 58\n",
    "\n",
    "# img_res = img.crop((left, top, right, bottom)) \n",
    "# display(img_res)"
   ]
  },
  {
   "cell_type": "code",
   "execution_count": 509,
   "metadata": {},
   "outputs": [],
   "source": [
    "def show_image(image, left, top, right, bottom):\n",
    "    img_res = image.crop((left, top, right, bottom))\n",
    "    display(img_res)"
   ]
  },
  {
   "cell_type": "code",
   "execution_count": 510,
   "metadata": {},
   "outputs": [],
   "source": [
    "rois = [\n",
    "        {\n",
    "            \"name\": \"roll\",\n",
    "            \"method\": \"classify\",\n",
    "            \"index\": 0,\n",
    "            \"row\": -1,\n",
    "            \"col\": 0,\n",
    "            \"left\": 188,\n",
    "            \"right\": 216,\n",
    "            \"top\": 27,\n",
    "            \"bottom\": 51\n",
    "        },\n",
    "        {\n",
    "            \"name\": \"roll\",\n",
    "            \"method\": \"classify\",\n",
    "            \"index\": 1,\n",
    "            \"row\": -1,\n",
    "            \"col\": 1,\n",
    "            \"left\": 215,\n",
    "            \"right\": 241,\n",
    "            \"top\": 27,\n",
    "            \"bottom\": 51\n",
    "        },\n",
    "        {\n",
    "            \"name\": \"roll\",\n",
    "            \"method\": \"classify\",\n",
    "            \"index\": 2,\n",
    "            \"row\": -1,\n",
    "            \"col\": 2,\n",
    "            \"left\": 240,\n",
    "            \"right\": 266,\n",
    "            \"top\": 27,\n",
    "            \"bottom\": 51\n",
    "        },\n",
    "        {\n",
    "            \"name\": \"roll\",\n",
    "            \"method\": \"classify\",\n",
    "            \"index\": 3,\n",
    "            \"row\": -1,\n",
    "            \"col\": 3,\n",
    "            \"left\": 265,\n",
    "            \"right\": 291,\n",
    "            \"top\": 27,\n",
    "            \"bottom\": 51\n",
    "        },\n",
    "        {\n",
    "            \"name\": \"roll\",\n",
    "            \"method\": \"classify\",\n",
    "            \"index\": 4,\n",
    "            \"row\": -1,\n",
    "            \"col\": 4,\n",
    "            \"left\": 290,\n",
    "            \"right\": 316,\n",
    "            \"top\": 27,\n",
    "            \"bottom\": 51\n",
    "        },\n",
    "        {\n",
    "            \"name\": \"roll\",\n",
    "            \"method\": \"classify\",\n",
    "            \"index\": 5,\n",
    "            \"row\": -1,\n",
    "            \"col\": 5,\n",
    "            \"left\": 315,\n",
    "            \"right\": 343,\n",
    "            \"top\": 27,\n",
    "            \"bottom\": 51\n",
    "        },\n",
    "        {\n",
    "            \"name\": \"roll\",\n",
    "            \"method\": \"classify\",\n",
    "            \"index\": 6,\n",
    "            \"row\": -1,\n",
    "            \"col\": 6,\n",
    "            \"left\": 341,\n",
    "            \"right\": 367,\n",
    "            \"top\": 28,\n",
    "            \"bottom\": 52\n",
    "        },\n",
    "        {\n",
    "            \"name\": \"roll\",\n",
    "            \"method\": \"classify\",\n",
    "            \"index\": 7,\n",
    "            \"row\": -1,\n",
    "            \"col\": 7,\n",
    "            \"left\": 366,\n",
    "            \"right\": 392,\n",
    "            \"top\": 28,\n",
    "            \"bottom\": 52\n",
    "        },\n",
    "        {\n",
    "            \"name\": \"roll\",\n",
    "            \"method\": \"classify\",\n",
    "            \"index\": 8,\n",
    "            \"row\": -1,\n",
    "            \"col\": 8,\n",
    "            \"left\": 392,\n",
    "            \"right\": 418,\n",
    "            \"top\": 28,\n",
    "            \"bottom\": 52\n",
    "        },\n",
    "        {\n",
    "            \"name\": \"roll\",\n",
    "            \"method\": \"classify\",\n",
    "            \"index\": 9,\n",
    "            \"row\": -1,\n",
    "            \"col\": 9,\n",
    "            \"left\": 418,\n",
    "            \"right\": 443,\n",
    "            \"top\": 28,\n",
    "            \"bottom\": 52\n",
    "        },\n",
    "        {\n",
    "            \"name\": \"roll\",\n",
    "            \"method\": \"classify\",\n",
    "            \"index\": 10,\n",
    "            \"row\": -1,\n",
    "            \"col\": 10,\n",
    "            \"left\": 443,\n",
    "            \"right\": 469,\n",
    "            \"top\": 28,\n",
    "            \"bottom\": 52\n",
    "        },\n",
    "        {\n",
    "            \"name\": \"roll\",\n",
    "            \"method\": \"classify\",\n",
    "            \"index\": 11,\n",
    "            \"row\": -1,\n",
    "            \"col\": 11,\n",
    "            \"left\": 468,\n",
    "            \"right\": 494,\n",
    "            \"top\": 28,\n",
    "            \"bottom\": 52\n",
    "        },\n",
    "        {\n",
    "            \"name\": \"roll\",\n",
    "            \"method\": \"classify\",\n",
    "            \"index\": 12,\n",
    "            \"row\": -1,\n",
    "            \"col\": 12,\n",
    "            \"left\": 493,\n",
    "            \"right\": 519,\n",
    "            \"top\": 28,\n",
    "            \"bottom\": 52\n",
    "        },\n",
    "    {\n",
    "            \"name\": \"roll\",\n",
    "            \"method\": \"classify\",\n",
    "            \"index\": 13,\n",
    "            \"row\": -1,\n",
    "            \"col\": 13,\n",
    "            \"left\": 518,\n",
    "            \"right\": 544,\n",
    "            \"top\": 28,\n",
    "            \"bottom\": 52\n",
    "        },\n",
    "        {\n",
    "            \"name\": \"roll\",\n",
    "            \"method\": \"classify\",\n",
    "            \"index\": 14,\n",
    "            \"row\": -1,\n",
    "            \"col\": 14,\n",
    "            \"left\": 545,\n",
    "            \"right\": 571,\n",
    "            \"top\": 28,\n",
    "            \"bottom\": 52\n",
    "        },\n",
    "        {\n",
    "            \"name\": \"roll\",\n",
    "            \"method\": \"classify\",\n",
    "            \"index\": 15,\n",
    "            \"row\": -1,\n",
    "            \"col\": 15,\n",
    "            \"left\": 570,\n",
    "            \"right\": 598,\n",
    "            \"top\": 28,\n",
    "            \"bottom\": 52\n",
    "        },\n",
    "\t{\n",
    "            \"name\": \"marks\",\n",
    "            \"method\": \"classify\",\n",
    "            \"question\": 1,\n",
    "            \"row\": 0,\n",
    "            \"col\": 0,\n",
    "            \"index\": 0,\n",
    "            \"top\": 94,\n",
    "            \"bottom\": 117,\n",
    "            \"left\": 213,\n",
    "            \"right\": 240\n",
    "        },\n",
    "        {\n",
    "            \"name\": \"marks\",\n",
    "            \"method\": \"classify\",\n",
    "            \"question\": 1,\n",
    "            \"row\": 0,\n",
    "            \"col\": 0,\n",
    "            \"index\": 1,\n",
    "            \"top\": 94,\n",
    "            \"bottom\": 117,\n",
    "            \"left\": 250,\n",
    "            \"right\": 277\n",
    "        },\n",
    "        {\n",
    "            \"name\": \"marks\",\n",
    "            \"method\": \"classify\",\n",
    "            \"question\": 2,\n",
    "            \"row\": 1,\n",
    "            \"col\": 0,\n",
    "            \"index\": 0,\n",
    "            \"top\": 125,\n",
    "            \"bottom\": 148,\n",
    "            \"left\": 213,\n",
    "            \"right\": 240\n",
    "        },\n",
    "        {\n",
    "            \"name\": \"marks\",\n",
    "            \"method\": \"classify\",\n",
    "            \"question\": 2,\n",
    "            \"row\": 1,\n",
    "            \"col\": 0,\n",
    "            \"index\": 1,\n",
    "            \"top\": 125,\n",
    "            \"bottom\": 148,\n",
    "            \"left\": 250,\n",
    "            \"right\": 277\n",
    "        },\n",
    "         {\n",
    "            \"name\": \"marks\",\n",
    "            \"method\": \"classify\",\n",
    "            \"question\": 3,\n",
    "            \"row\": 2,\n",
    "            \"col\": 0,\n",
    "            \"index\": 0,\n",
    "            \"top\": 156,\n",
    "            \"bottom\": 179,\n",
    "            \"left\": 213,\n",
    "            \"right\": 240\n",
    "        },\n",
    "        {\n",
    "            \"name\": \"marks\",\n",
    "            \"method\": \"classify\",\n",
    "            \"question\": 3,\n",
    "            \"row\": 2,\n",
    "            \"col\": 0,\n",
    "            \"index\": 1,\n",
    "            \"top\": 156,\n",
    "            \"bottom\": 179,\n",
    "            \"left\": 250,\n",
    "            \"right\": 277\n",
    "        },\n",
    "        {\n",
    "            \"name\": \"marks\",\n",
    "            \"method\": \"classify\",\n",
    "            \"question\": 4,\n",
    "            \"row\": 3,\n",
    "            \"col\": 0,\n",
    "            \"index\": 0,\n",
    "            \"top\": 188,\n",
    "            \"bottom\": 211,\n",
    "            \"left\": 213,\n",
    "            \"right\": 240\n",
    "        },\n",
    "        {\n",
    "            \"name\": \"marks\",\n",
    "            \"method\": \"classify\",\n",
    "            \"question\": 4,\n",
    "            \"row\": 3,\n",
    "            \"col\": 0,\n",
    "            \"index\": 1,\n",
    "            \"top\": 188,\n",
    "            \"bottom\": 211,\n",
    "            \"left\": 251,\n",
    "            \"right\": 277\n",
    "        },\n",
    "        {\n",
    "            \"name\": \"marks\",\n",
    "            \"method\": \"classify\",\n",
    "            \"question\": 5,\n",
    "            \"row\": 4,\n",
    "            \"col\": 0,\n",
    "            \"index\": 0,\n",
    "            \"top\": 219,\n",
    "            \"bottom\": 242,\n",
    "            \"left\": 213,\n",
    "            \"right\": 240\n",
    "        },\n",
    "        {\n",
    "            \"name\": \"marks\",\n",
    "            \"method\": \"classify\",\n",
    "            \"question\": 5,\n",
    "            \"row\": 4,\n",
    "            \"col\": 0,\n",
    "            \"index\": 1,\n",
    "            \"top\": 219,\n",
    "            \"bottom\": 242,\n",
    "            \"left\": 251,\n",
    "            \"right\": 277\n",
    "        },\n",
    "        {\n",
    "            \"name\": \"marks\",\n",
    "            \"method\": \"classify\",\n",
    "            \"question\": 6,\n",
    "            \"row\": 5,\n",
    "            \"col\": 0,\n",
    "            \"index\": 0,\n",
    "            \"top\": 250,\n",
    "            \"bottom\": 274,\n",
    "            \"left\": 213,\n",
    "            \"right\": 240\n",
    "        },\n",
    "        {\n",
    "            \"name\": \"marks\",\n",
    "            \"method\": \"classify\",\n",
    "            \"question\": 6,\n",
    "            \"row\": 5,\n",
    "            \"col\": 0,\n",
    "            \"index\": 1,\n",
    "            \"top\": 250,\n",
    "            \"bottom\": 274,\n",
    "            \"left\": 251,\n",
    "            \"right\": 277\n",
    "        },\n",
    "        {\n",
    "            \"name\": \"marks\",\n",
    "            \"method\": \"classify\",\n",
    "            \"question\": 7,\n",
    "            \"row\": 6,\n",
    "            \"col\": 0,\n",
    "            \"index\": 0,\n",
    "            \"top\": 282,\n",
    "            \"bottom\": 305.5,\n",
    "            \"left\": 213,\n",
    "            \"right\": 240\n",
    "        },\n",
    "        {\n",
    "            \"name\": \"marks\",\n",
    "            \"method\": \"classify\",\n",
    "            \"question\": 7,\n",
    "            \"row\": 6,\n",
    "            \"col\": 0,\n",
    "            \"index\": 1,\n",
    "            \"top\": 282,\n",
    "            \"bottom\": 305.5,\n",
    "            \"left\": 251,\n",
    "            \"right\": 277\n",
    "        },\n",
    "        {\n",
    "            \"name\": \"marks\",\n",
    "            \"method\": \"classify\",\n",
    "            \"question\": 8,\n",
    "            \"row\": 7,\n",
    "            \"col\": 0,\n",
    "            \"index\": 0,\n",
    "            \"top\": 313,\n",
    "            \"bottom\": 337,\n",
    "            \"left\": 213,\n",
    "            \"right\": 240\n",
    "        },\n",
    "        {\n",
    "            \"name\": \"marks\",\n",
    "            \"method\": \"classify\",\n",
    "            \"question\": 8,\n",
    "            \"row\": 7,\n",
    "            \"col\": 0,\n",
    "            \"index\": 1,\n",
    "            \"top\": 313,\n",
    "            \"bottom\": 337,\n",
    "            \"left\": 251,\n",
    "            \"right\": 278\n",
    "        },\n",
    "        {\n",
    "            \"name\": \"marks\",\n",
    "            \"method\": \"classify\",\n",
    "            \"question\": 9,\n",
    "            \"row\": 8,\n",
    "            \"col\": 0,\n",
    "            \"index\": 0,\n",
    "            \"top\": 345,\n",
    "            \"bottom\": 368,\n",
    "            \"left\": 213,\n",
    "            \"right\": 240\n",
    "        },\n",
    "        {\n",
    "            \"name\": \"marks\",\n",
    "            \"method\": \"classify\",\n",
    "            \"question\": 9,\n",
    "            \"row\": 8,\n",
    "            \"col\": 0,\n",
    "            \"index\": 1,\n",
    "            \"top\": 345,\n",
    "            \"bottom\": 368,\n",
    "            \"left\": 251,\n",
    "            \"right\": 278\n",
    "        },\n",
    "        {\n",
    "            \"name\": \"marks\",\n",
    "            \"method\": \"classify\",\n",
    "            \"question\": 10,\n",
    "            \"row\": 9,\n",
    "            \"col\": 0,\n",
    "            \"index\": 0,\n",
    "            \"top\": 375,\n",
    "            \"bottom\": 398,\n",
    "            \"left\": 213,\n",
    "            \"right\": 240\n",
    "        },\n",
    "        {\n",
    "            \"name\": \"marks\",\n",
    "            \"method\": \"classify\",\n",
    "            \"question\": 10,\n",
    "            \"row\": 9,\n",
    "            \"col\": 0,\n",
    "            \"index\": 1,\n",
    "            \"top\": 375,\n",
    "            \"bottom\": 398,\n",
    "            \"left\": 251,\n",
    "            \"right\": 278\n",
    "        },\n",
    "\t{\n",
    "            \"name\": \"marks\",\n",
    "            \"method\": \"classify\",\n",
    "            \"question\": 11,\n",
    "            \"row\": 0,\n",
    "            \"col\": 1,\n",
    "            \"index\": 0,\n",
    "            \"top\": 94,\n",
    "            \"bottom\": 118,\n",
    "            \"left\": 508,\n",
    "            \"right\": 537\n",
    "        },\n",
    "        {\n",
    "            \"name\": \"marks\",\n",
    "            \"method\": \"classify\",\n",
    "            \"question\": 11,\n",
    "            \"row\": 0,\n",
    "            \"col\": 1,\n",
    "            \"index\": 1,\n",
    "            \"top\": 94,\n",
    "            \"bottom\": 118,\n",
    "            \"left\": 546,\n",
    "            \"right\": 575\n",
    "        },\n",
    "        {\n",
    "            \"name\": \"marks\",\n",
    "            \"method\": \"classify\",\n",
    "            \"question\": 12,\n",
    "            \"row\": 1,\n",
    "            \"col\": 1,\n",
    "            \"index\": 0,\n",
    "            \"top\": 125,\n",
    "            \"bottom\": 149,\n",
    "            \"left\": 509,\n",
    "            \"right\": 536\n",
    "        },\n",
    "        {\n",
    "            \"name\": \"marks\",\n",
    "            \"method\": \"classify\",\n",
    "            \"question\": 12,\n",
    "            \"row\": 1,\n",
    "            \"col\": 1,\n",
    "            \"index\": 1,\n",
    "            \"top\": 125,\n",
    "            \"bottom\": 149,\n",
    "            \"left\": 547,\n",
    "            \"right\": 575\n",
    "        },\n",
    "        {\n",
    "            \"name\": \"marks\",\n",
    "            \"method\": \"classify\",\n",
    "            \"question\": 13,\n",
    "            \"row\": 2,\n",
    "            \"col\": 1,\n",
    "            \"index\": 0,\n",
    "            \"top\": 156,\n",
    "            \"bottom\": 181,\n",
    "            \"left\": 509,\n",
    "            \"right\": 538\n",
    "        },\n",
    "        {\n",
    "            \"name\": \"marks\",\n",
    "            \"method\": \"classify\",\n",
    "            \"question\": 13,\n",
    "            \"row\": 2,\n",
    "            \"col\": 1,\n",
    "            \"index\": 1,\n",
    "            \"top\": 156,\n",
    "            \"bottom\": 181,\n",
    "            \"left\": 547,\n",
    "            \"right\": 575\n",
    "        },\n",
    "        {\n",
    "            \"name\": \"marks\",\n",
    "            \"method\": \"classify\",\n",
    "            \"question\": 14,\n",
    "            \"row\": 3,\n",
    "            \"col\": 1,\n",
    "            \"index\": 0,\n",
    "            \"top\": 188,\n",
    "            \"bottom\": 211,\n",
    "            \"left\": 508,\n",
    "            \"right\": 536\n",
    "        },\n",
    "        {\n",
    "            \"name\": \"marks\",\n",
    "            \"method\": \"classify\",\n",
    "            \"question\": 14,\n",
    "            \"row\": 3,\n",
    "            \"col\": 1,\n",
    "            \"index\": 1,\n",
    "            \"top\": 188,\n",
    "            \"bottom\": 211,\n",
    "            \"left\": 546,\n",
    "            \"right\": 574\n",
    "        },\n",
    "        {\n",
    "            \"name\": \"marks\",\n",
    "            \"method\": \"classify\",\n",
    "            \"question\": 15,\n",
    "            \"row\": 4,\n",
    "            \"col\": 1,\n",
    "            \"index\": 0,\n",
    "            \"top\": 218,\n",
    "            \"bottom\": 243,\n",
    "            \"left\": 508.5,\n",
    "            \"right\": 536.5\n",
    "        },\n",
    "        {\n",
    "            \"name\": \"marks\",\n",
    "            \"method\": \"classify\",\n",
    "            \"question\": 15,\n",
    "            \"row\": 4,\n",
    "            \"col\": 1,\n",
    "            \"index\": 1,\n",
    "            \"top\": 218,\n",
    "            \"bottom\": 243,\n",
    "            \"left\": 546.5,\n",
    "            \"right\": 574.5\n",
    "        },\n",
    "        {\n",
    "            \"name\": \"marks\",\n",
    "            \"method\": \"classify\",\n",
    "            \"question\": 16,\n",
    "            \"row\": 5,\n",
    "            \"col\": 1,\n",
    "            \"index\": 0,\n",
    "            \"top\": 250,\n",
    "            \"bottom\": 274,\n",
    "            \"left\": 508.5,\n",
    "            \"right\": 536.5\n",
    "        },\n",
    "        {\n",
    "            \"name\": \"marks\",\n",
    "            \"method\": \"classify\",\n",
    "            \"question\": 16,\n",
    "            \"row\": 5,\n",
    "            \"col\": 1,\n",
    "            \"index\": 1,\n",
    "            \"top\": 250,\n",
    "            \"bottom\": 274,\n",
    "            \"left\": 546.5,\n",
    "            \"right\": 574.5\n",
    "        },\n",
    "        {\n",
    "            \"name\": \"marks\",\n",
    "            \"method\": \"classify\",\n",
    "            \"question\": 17,\n",
    "            \"row\": 6,\n",
    "            \"col\": 1,\n",
    "            \"index\": 0,\n",
    "            \"top\": 281,\n",
    "            \"bottom\": 306,\n",
    "            \"left\": 507,\n",
    "            \"right\": 535\n",
    "        },\n",
    "        {\n",
    "            \"name\": \"marks\",\n",
    "            \"method\": \"classify\",\n",
    "            \"question\": 17,\n",
    "            \"row\": 6,\n",
    "            \"col\": 1,\n",
    "            \"index\": 1,\n",
    "            \"top\": 281,\n",
    "            \"bottom\": 306,\n",
    "            \"left\": 545,\n",
    "            \"right\": 573\n",
    "        },\n",
    "        {\n",
    "            \"name\": \"marks\",\n",
    "            \"method\": \"classify\",\n",
    "            \"question\": 18,\n",
    "            \"row\": 7,\n",
    "            \"col\": 1,\n",
    "            \"index\": 0,\n",
    "            \"top\": 312,\n",
    "            \"bottom\": 337,\n",
    "            \"left\": 507,\n",
    "            \"right\": 535\n",
    "        },\n",
    "        {\n",
    "            \"name\": \"marks\",\n",
    "            \"method\": \"classify\",\n",
    "            \"question\": 18,\n",
    "            \"row\": 7,\n",
    "            \"col\": 1,\n",
    "            \"index\": 1,\n",
    "            \"top\": 312,\n",
    "            \"bottom\": 337,\n",
    "            \"left\": 545,\n",
    "            \"right\": 573\n",
    "        },\n",
    "        {\n",
    "            \"name\": \"marks\",\n",
    "            \"method\": \"classify\",\n",
    "            \"question\": 19,\n",
    "            \"row\": 8,\n",
    "            \"col\": 1,\n",
    "            \"index\": 0,\n",
    "            \"top\": 343,\n",
    "            \"bottom\": 369,\n",
    "            \"left\": 507,\n",
    "            \"right\": 535\n",
    "        },\n",
    "        {\n",
    "            \"name\": \"marks\",\n",
    "            \"method\": \"classify\",\n",
    "            \"question\": 19,\n",
    "            \"row\": 8,\n",
    "            \"col\": 1,\n",
    "            \"index\": 1,\n",
    "            \"top\": 343,\n",
    "            \"bottom\": 369,\n",
    "            \"left\": 545,\n",
    "            \"right\": 573\n",
    "        },\n",
    "        {\n",
    "            \"name\": \"marks\",\n",
    "            \"method\": \"classify\",\n",
    "            \"question\": 20,\n",
    "            \"row\": 9,\n",
    "            \"col\": 1,\n",
    "            \"index\": 0,\n",
    "            \"top\": 374,\n",
    "            \"bottom\": 399,\n",
    "            \"left\": 507,\n",
    "            \"right\": 535\n",
    "        },\n",
    "        {\n",
    "            \"name\": \"marks\",\n",
    "            \"method\": \"classify\",\n",
    "            \"question\": 20,\n",
    "            \"row\": 9,\n",
    "            \"col\": 1,\n",
    "            \"index\": 1,\n",
    "            \"top\": 374,\n",
    "            \"bottom\": 399,\n",
    "            \"left\": 545,\n",
    "            \"right\": 573\n",
    "        },\n",
    "\t{\n",
    "            \"name\": \"totalMarks\",\n",
    "            \"method\": \"classify\",\n",
    "            \"index\": 0,\n",
    "            \"row\": -2,\n",
    "            \"col\": 0,\n",
    "            \"left\": 327,\n",
    "            \"right\": 354,\n",
    "            \"top\": 428,\n",
    "            \"bottom\": 451\n",
    "        },\n",
    "        {\n",
    "            \"name\": \"totalMarks\",\n",
    "            \"method\": \"classify\",\n",
    "            \"index\": 1,\n",
    "            \"row\": -2,\n",
    "            \"col\": 1,\n",
    "            \"left\": 353,\n",
    "            \"right\": 380,\n",
    "            \"top\": 427,\n",
    "            \"bottom\": 451\n",
    "        },\n",
    "        {\n",
    "            \"name\": \"totalMarks\",\n",
    "            \"method\": \"classify\",\n",
    "            \"index\": 2,\n",
    "            \"row\": -2,\n",
    "            \"col\": 2,\n",
    "            \"left\": 379,\n",
    "            \"right\": 406,\n",
    "            \"top\": 427,\n",
    "            \"bottom\": 451\n",
    "        }\n",
    "        \n",
    "    ]\n"
   ]
  },
  {
   "cell_type": "code",
   "execution_count": null,
   "metadata": {},
   "outputs": [],
   "source": []
  },
  {
   "cell_type": "code",
   "execution_count": null,
   "metadata": {},
   "outputs": [],
   "source": []
  },
  {
   "cell_type": "code",
   "execution_count": 511,
   "metadata": {},
   "outputs": [
    {
     "data": {
      "image/png": "[encoded data removed]",
      "text/plain": [
       "<PIL.Image.Image image mode=RGB size=28x24 at 0x7FFB8DE51280>"
      ]
     },
     "metadata": {},
     "output_type": "display_data"
    },
    {
     "data": {
      "image/png": "[encoded data removed]",
      "text/plain": [
       "<PIL.Image.Image image mode=RGB size=26x24 at 0x7FFB8F6AAE50>"
      ]
     },
     "metadata": {},
     "output_type": "display_data"
    },
    {
     "data": {
      "image/png": "[encoded data removed]",
      "text/plain": [
       "<PIL.Image.Image image mode=RGB size=26x24 at 0x7FFB8F6AAE80>"
      ]
     },
     "metadata": {},
     "output_type": "display_data"
    },
    {
     "data": {
      "image/png": "[encoded data removed]",
      "text/plain": [
       "<PIL.Image.Image image mode=RGB size=26x24 at 0x7FFB8F6AAE50>"
      ]
     },
     "metadata": {},
     "output_type": "display_data"
    },
    {
     "data": {
      "image/png": "[encoded data removed]",
      "text/plain": [
       "<PIL.Image.Image image mode=RGB size=26x24 at 0x7FFB8F6AAE80>"
      ]
     },
     "metadata": {},
     "output_type": "display_data"
    },
    {
     "data": {
      "image/png": "[encoded data removed]",
      "text/plain": [
       "<PIL.Image.Image image mode=RGB size=28x24 at 0x7FFB8F6AAE50>"
      ]
     },
     "metadata": {},
     "output_type": "display_data"
    },
    {
     "data": {
      "image/png": "[encoded data removed]",
      "text/plain": [
       "<PIL.Image.Image image mode=RGB size=26x24 at 0x7FFB8F6AAE20>"
      ]
     },
     "metadata": {},
     "output_type": "display_data"
    },
    {
     "data": {
      "image/png": "[encoded data removed]",
      "text/plain": [
       "<PIL.Image.Image image mode=RGB size=26x24 at 0x7FFB8F6AAE80>"
      ]
     },
     "metadata": {},
     "output_type": "display_data"
    },
    {
     "data": {
      "image/png": "[encoded data removed]",
      "text/plain": [
       "<PIL.Image.Image image mode=RGB size=26x24 at 0x7FFB8F6AAE50>"
      ]
     },
     "metadata": {},
     "output_type": "display_data"
    },
    {
     "data": {
      "image/png": "[encoded data removed]",
      "text/plain": [
       "<PIL.Image.Image image mode=RGB size=25x24 at 0x7FFB8F6AAE80>"
      ]
     },
     "metadata": {},
     "output_type": "display_data"
    },
    {
     "data": {
      "image/png": "[encoded data removed]",
      "text/plain": [
       "<PIL.Image.Image image mode=RGB size=26x24 at 0x7FFB8F6AAE20>"
      ]
     },
     "metadata": {},
     "output_type": "display_data"
    },
    {
     "data": {
      "image/png": "[encoded data removed]",
      "text/plain": [
       "<PIL.Image.Image image mode=RGB size=26x24 at 0x7FFB8F6AAE50>"
      ]
     },
     "metadata": {},
     "output_type": "display_data"
    },
    {
     "data": {
      "image/png": "[encoded data removed]",
      "text/plain": [
       "<PIL.Image.Image image mode=RGB size=26x24 at 0x7FFB8F6AAE20>"
      ]
     },
     "metadata": {},
     "output_type": "display_data"
    },
    {
     "data": {
      "image/png": "[encoded data removed]",
      "text/plain": [
       "<PIL.Image.Image image mode=RGB size=26x24 at 0x7FFB8F6AAE50>"
      ]
     },
     "metadata": {},
     "output_type": "display_data"
    },
    {
     "data": {
      "image/png": "[encoded data removed]",
      "text/plain": [
       "<PIL.Image.Image image mode=RGB size=26x24 at 0x7FFB8F6AAE80>"
      ]
     },
     "metadata": {},
     "output_type": "display_data"
    },
    {
     "data": {
      "image/png": "[encoded data removed]",
      "text/plain": [
       "<PIL.Image.Image image mode=RGB size=28x24 at 0x7FFB8F6AAE50>"
      ]
     },
     "metadata": {},
     "output_type": "display_data"
    },
    {
     "data": {
      "image/png": "[encoded data removed]",
      "text/plain": [
       "<PIL.Image.Image image mode=RGB size=27x23 at 0x7FFB8F6AAE80>"
      ]
     },
     "metadata": {},
     "output_type": "display_data"
    },
    {
     "data": {
      "image/png": "[encoded data removed]",
      "text/plain": [
       "<PIL.Image.Image image mode=RGB size=27x23 at 0x7FFB8F6AAE20>"
      ]
     },
     "metadata": {},
     "output_type": "display_data"
    },
    {
     "data": {
      "image/png": "[encoded data removed]",
      "text/plain": [
       "<PIL.Image.Image image mode=RGB size=27x23 at 0x7FFB8F6AAE80>"
      ]
     },
     "metadata": {},
     "output_type": "display_data"
    },
    {
     "data": {
      "image/png": "[encoded data removed]",
      "text/plain": [
       "<PIL.Image.Image image mode=RGB size=27x23 at 0x7FFB8F6AAE20>"
      ]
     },
     "metadata": {},
     "output_type": "display_data"
    },
    {
     "data": {
      "image/png": "[encoded data removed]",
      "text/plain": [
       "<PIL.Image.Image image mode=RGB size=27x23 at 0x7FFB8F6AAE80>"
      ]
     },
     "metadata": {},
     "output_type": "display_data"
    },
    {
     "data": {
      "image/png": "[encoded data removed]",
      "text/plain": [
       "<PIL.Image.Image image mode=RGB size=27x23 at 0x7FFB8F6AAE50>"
      ]
     },
     "metadata": {},
     "output_type": "display_data"
    },
    {
     "data": {
      "image/png": "[encoded data removed]",
      "text/plain": [
       "<PIL.Image.Image image mode=RGB size=27x23 at 0x7FFB8F6AAE20>"
      ]
     },
     "metadata": {},
     "output_type": "display_data"
    },
    {
     "data": {
      "image/png": "[encoded data removed]",
      "text/plain": [
       "<PIL.Image.Image image mode=RGB size=26x23 at 0x7FFB8F6AAE50>"
      ]
     },
     "metadata": {},
     "output_type": "display_data"
    },
    {
     "data": {
      "image/png": "[encoded data removed]",
      "text/plain": [
       "<PIL.Image.Image image mode=RGB size=27x23 at 0x7FFB8F6AAE20>"
      ]
     },
     "metadata": {},
     "output_type": "display_data"
    },
    {
     "data": {
      "image/png": "[encoded data removed]",
      "text/plain": [
       "<PIL.Image.Image image mode=RGB size=26x23 at 0x7FFB8F6AAE80>"
      ]
     },
     "metadata": {},
     "output_type": "display_data"
    },
    {
     "data": {
      "image/png": "[encoded data removed]",
      "text/plain": [
       "<PIL.Image.Image image mode=RGB size=27x24 at 0x7FFB8F6AAE20>"
      ]
     },
     "metadata": {},
     "output_type": "display_data"
    },
    {
     "data": {
      "image/png": "[encoded data removed]",
      "text/plain": [
       "<PIL.Image.Image image mode=RGB size=26x24 at 0x7FFB8F6AAE50>"
      ]
     },
     "metadata": {},
     "output_type": "display_data"
    },
    {
     "data": {
      "image/png": "[encoded data removed]",
      "text/plain": [
       "<PIL.Image.Image image mode=RGB size=27x24 at 0x7FFB8F6AAE20>"
      ]
     },
     "metadata": {},
     "output_type": "display_data"
    },
    {
     "data": {
      "image/png": "[encoded data removed]",
      "text/plain": [
       "<PIL.Image.Image image mode=RGB size=26x24 at 0x7FFB8F6AAE80>"
      ]
     },
     "metadata": {},
     "output_type": "display_data"
    },
    {
     "data": {
      "image/png": "[encoded data removed]",
      "text/plain": [
       "<PIL.Image.Image image mode=RGB size=27x24 at 0x7FFB8F6AAE50>"
      ]
     },
     "metadata": {},
     "output_type": "display_data"
    },
    {
     "data": {
      "image/png": "[encoded data removed]",
      "text/plain": [
       "<PIL.Image.Image image mode=RGB size=27x24 at 0x7FFB8F6AAE20>"
      ]
     },
     "metadata": {},
     "output_type": "display_data"
    },
    {
     "data": {
      "image/png": "[encoded data removed]",
      "text/plain": [
       "<PIL.Image.Image image mode=RGB size=27x23 at 0x7FFB8F6AAE80>"
      ]
     },
     "metadata": {},
     "output_type": "display_data"
    },
    {
     "data": {
      "image/png": "[encoded data removed]",
      "text/plain": [
       "<PIL.Image.Image image mode=RGB size=27x23 at 0x7FFB8F6AAE20>"
      ]
     },
     "metadata": {},
     "output_type": "display_data"
    },
    {
     "data": {
      "image/png": "[encoded data removed]",
      "text/plain": [
       "<PIL.Image.Image image mode=RGB size=27x23 at 0x7FFB8F6AAE80>"
      ]
     },
     "metadata": {},
     "output_type": "display_data"
    },
    {
     "data": {
      "image/png": "[encoded data removed]",
      "text/plain": [
       "<PIL.Image.Image image mode=RGB size=27x23 at 0x7FFB8F6AAE50>"
      ]
     },
     "metadata": {},
     "output_type": "display_data"
    },
    {
     "data": {
      "image/png": "[encoded data removed]",
      "text/plain": [
       "<PIL.Image.Image image mode=RGB size=29x24 at 0x7FFB8F6AAE80>"
      ]
     },
     "metadata": {},
     "output_type": "display_data"
    },
    {
     "data": {
      "image/png": "[encoded data removed]",
      "text/plain": [
       "<PIL.Image.Image image mode=RGB size=29x24 at 0x7FFB8F6AAE20>"
      ]
     },
     "metadata": {},
     "output_type": "display_data"
    },
    {
     "data": {
      "image/png": "[encoded data removed]",
      "text/plain": [
       "<PIL.Image.Image image mode=RGB size=27x24 at 0x7FFB8F6AAE50>"
      ]
     },
     "metadata": {},
     "output_type": "display_data"
    },
    {
     "data": {
      "image/png": "[encoded data removed]",
      "text/plain": [
       "<PIL.Image.Image image mode=RGB size=28x24 at 0x7FFB8F6AAE80>"
      ]
     },
     "metadata": {},
     "output_type": "display_data"
    },
    {
     "data": {
      "image/png": "[encoded data removed]",
      "text/plain": [
       "<PIL.Image.Image image mode=RGB size=29x25 at 0x7FFB8F6AAE50>"
      ]
     },
     "metadata": {},
     "output_type": "display_data"
    },
    {
     "data": {
      "image/png": "[encoded data removed]",
      "text/plain": [
       "<PIL.Image.Image image mode=RGB size=28x25 at 0x7FFB8F6AAE20>"
      ]
     },
     "metadata": {},
     "output_type": "display_data"
    },
    {
     "data": {
      "image/png": "[encoded data removed]",
      "text/plain": [
       "<PIL.Image.Image image mode=RGB size=28x23 at 0x7FFB8F6AAE80>"
      ]
     },
     "metadata": {},
     "output_type": "display_data"
    },
    {
     "data": {
      "image/png": "[encoded data removed]",
      "text/plain": [
       "<PIL.Image.Image image mode=RGB size=28x23 at 0x7FFB8F6AAE20>"
      ]
     },
     "metadata": {},
     "output_type": "display_data"
    },
    {
     "data": {
      "image/png": "[encoded data removed]",
      "text/plain": [
       "<PIL.Image.Image image mode=RGB size=28x25 at 0x7FFB8F6CE490>"
      ]
     },
     "metadata": {},
     "output_type": "display_data"
    },
    {
     "data": {
      "image/png": "[encoded data removed]",
      "text/plain": [
       "<PIL.Image.Image image mode=RGB size=28x25 at 0x7FFB8F6AAE50>"
      ]
     },
     "metadata": {},
     "output_type": "display_data"
    },
    {
     "data": {
      "image/png": "[encoded data removed]",
      "text/plain": [
       "<PIL.Image.Image image mode=RGB size=28x24 at 0x7FFB8F6AAD00>"
      ]
     },
     "metadata": {},
     "output_type": "display_data"
    },
    {
     "data": {
      "image/png": "[encoded data removed]",
      "text/plain": [
       "<PIL.Image.Image image mode=RGB size=28x24 at 0x7FFB8F6AAE80>"
      ]
     },
     "metadata": {},
     "output_type": "display_data"
    },
    {
     "data": {
      "image/png": "[encoded data removed]",
      "text/plain": [
       "<PIL.Image.Image image mode=RGB size=28x25 at 0x7FFB8F6AAE20>"
      ]
     },
     "metadata": {},
     "output_type": "display_data"
    },
    {
     "data": {
      "image/png": "[encoded data removed]",
      "text/plain": [
       "<PIL.Image.Image image mode=RGB size=28x25 at 0x7FFB8F6AAE80>"
      ]
     },
     "metadata": {},
     "output_type": "display_data"
    },
    {
     "data": {
      "image/png": "[encoded data removed]",
      "text/plain": [
       "<PIL.Image.Image image mode=RGB size=28x25 at 0x7FFB8F6AAE20>"
      ]
     },
     "metadata": {},
     "output_type": "display_data"
    },
    {
     "data": {
      "image/png": "[encoded data removed]",
      "text/plain": [
       "<PIL.Image.Image image mode=RGB size=28x25 at 0x7FFB8F6AAE80>"
      ]
     },
     "metadata": {},
     "output_type": "display_data"
    },
    {
     "data": {
      "image/png": "[encoded data removed]",
      "text/plain": [
       "<PIL.Image.Image image mode=RGB size=28x26 at 0x7FFB8F6AAE20>"
      ]
     },
     "metadata": {},
     "output_type": "display_data"
    },
    {
     "data": {
      "image/png": "[encoded data removed]",
      "text/plain": [
       "<PIL.Image.Image image mode=RGB size=28x26 at 0x7FFB8F6AAE80>"
      ]
     },
     "metadata": {},
     "output_type": "display_data"
    },
    {
     "data": {
      "image/png": "[encoded data removed]",
      "text/plain": [
       "<PIL.Image.Image image mode=RGB size=28x25 at 0x7FFB8F6AAD00>"
      ]
     },
     "metadata": {},
     "output_type": "display_data"
    },
    {
     "data": {
      "image/png": "[encoded data removed]",
      "text/plain": [
       "<PIL.Image.Image image mode=RGB size=28x25 at 0x7FFB8F6AAE20>"
      ]
     },
     "metadata": {},
     "output_type": "display_data"
    },
    {
     "data": {
      "image/png": "[encoded data removed]",
      "text/plain": [
       "<PIL.Image.Image image mode=RGB size=27x23 at 0x7FFB8F6AAE80>"
      ]
     },
     "metadata": {},
     "output_type": "display_data"
    },
    {
     "data": {
      "image/png": "[encoded data removed]",
      "text/plain": [
       "<PIL.Image.Image image mode=RGB size=27x24 at 0x7FFB8F6AAD00>"
      ]
     },
     "metadata": {},
     "output_type": "display_data"
    },
    {
     "data": {
      "image/png": "[encoded data removed]",
      "text/plain": [
       "<PIL.Image.Image image mode=RGB size=27x24 at 0x7FFB8F6AAE80>"
      ]
     },
     "metadata": {},
     "output_type": "display_data"
    }
   ],
   "source": [
    "for index in range(len(rois)):\n",
    "    show_image(img, rois[index]['left'], rois[index]['top'], rois[index]['right'], rois[index]['bottom'])\n"
   ]
  },
  {
   "cell_type": "code",
   "execution_count": 512,
   "metadata": {},
   "outputs": [
    {
     "data": {
      "text/plain": [
       "'[{\"name\": \"roll\", \"method\": \"classify\", \"index\": 0, \"row\": -1, \"col\": 0, \"left\": 188, \"right\": 216, \"top\": 27, \"bottom\": 51}, {\"name\": \"roll\", \"method\": \"classify\", \"index\": 1, \"row\": -1, \"col\": 1, \"left\": 215, \"right\": 241, \"top\": 27, \"bottom\": 51}, {\"name\": \"roll\", \"method\": \"classify\", \"index\": 2, \"row\": -1, \"col\": 2, \"left\": 240, \"right\": 266, \"top\": 27, \"bottom\": 51}, {\"name\": \"roll\", \"method\": \"classify\", \"index\": 3, \"row\": -1, \"col\": 3, \"left\": 265, \"right\": 291, \"top\": 27, \"bottom\": 51}, {\"name\": \"roll\", \"method\": \"classify\", \"index\": 4, \"row\": -1, \"col\": 4, \"left\": 290, \"right\": 316, \"top\": 27, \"bottom\": 51}, {\"name\": \"roll\", \"method\": \"classify\", \"index\": 5, \"row\": -1, \"col\": 5, \"left\": 315, \"right\": 343, \"top\": 27, \"bottom\": 51}, {\"name\": \"roll\", \"method\": \"classify\", \"index\": 6, \"row\": -1, \"col\": 6, \"left\": 341, \"right\": 367, \"top\": 28, \"bottom\": 52}, {\"name\": \"roll\", \"method\": \"classify\", \"index\": 7, \"row\": -1, \"col\": 7, \"left\": 366, \"right\": 392, \"top\": 28, \"bottom\": 52}, {\"name\": \"roll\", \"method\": \"classify\", \"index\": 8, \"row\": -1, \"col\": 8, \"left\": 392, \"right\": 418, \"top\": 28, \"bottom\": 52}, {\"name\": \"roll\", \"method\": \"classify\", \"index\": 9, \"row\": -1, \"col\": 9, \"left\": 418, \"right\": 443, \"top\": 28, \"bottom\": 52}, {\"name\": \"roll\", \"method\": \"classify\", \"index\": 10, \"row\": -1, \"col\": 10, \"left\": 443, \"right\": 469, \"top\": 28, \"bottom\": 52}, {\"name\": \"roll\", \"method\": \"classify\", \"index\": 11, \"row\": -1, \"col\": 11, \"left\": 468, \"right\": 494, \"top\": 28, \"bottom\": 52}, {\"name\": \"roll\", \"method\": \"classify\", \"index\": 12, \"row\": -1, \"col\": 12, \"left\": 493, \"right\": 519, \"top\": 28, \"bottom\": 52}, {\"name\": \"roll\", \"method\": \"classify\", \"index\": 13, \"row\": -1, \"col\": 13, \"left\": 518, \"right\": 544, \"top\": 28, \"bottom\": 52}, {\"name\": \"roll\", \"method\": \"classify\", \"index\": 14, \"row\": -1, \"col\": 14, \"left\": 545, \"right\": 571, \"top\": 28, \"bottom\": 52}, {\"name\": \"roll\", \"method\": \"classify\", \"index\": 15, \"row\": -1, \"col\": 15, \"left\": 570, \"right\": 598, \"top\": 28, \"bottom\": 52}, {\"name\": \"marks\", \"method\": \"classify\", \"question\": 1, \"row\": 0, \"col\": 0, \"index\": 0, \"top\": 94, \"bottom\": 117, \"left\": 213, \"right\": 240}, {\"name\": \"marks\", \"method\": \"classify\", \"question\": 1, \"row\": 0, \"col\": 0, \"index\": 1, \"top\": 94, \"bottom\": 117, \"left\": 250, \"right\": 277}, {\"name\": \"marks\", \"method\": \"classify\", \"question\": 2, \"row\": 1, \"col\": 0, \"index\": 0, \"top\": 125, \"bottom\": 148, \"left\": 213, \"right\": 240}, {\"name\": \"marks\", \"method\": \"classify\", \"question\": 2, \"row\": 1, \"col\": 0, \"index\": 1, \"top\": 125, \"bottom\": 148, \"left\": 250, \"right\": 277}, {\"name\": \"marks\", \"method\": \"classify\", \"question\": 3, \"row\": 2, \"col\": 0, \"index\": 0, \"top\": 156, \"bottom\": 179, \"left\": 213, \"right\": 240}, {\"name\": \"marks\", \"method\": \"classify\", \"question\": 3, \"row\": 2, \"col\": 0, \"index\": 1, \"top\": 156, \"bottom\": 179, \"left\": 250, \"right\": 277}, {\"name\": \"marks\", \"method\": \"classify\", \"question\": 4, \"row\": 3, \"col\": 0, \"index\": 0, \"top\": 188, \"bottom\": 211, \"left\": 213, \"right\": 240}, {\"name\": \"marks\", \"method\": \"classify\", \"question\": 4, \"row\": 3, \"col\": 0, \"index\": 1, \"top\": 188, \"bottom\": 211, \"left\": 251, \"right\": 277}, {\"name\": \"marks\", \"method\": \"classify\", \"question\": 5, \"row\": 4, \"col\": 0, \"index\": 0, \"top\": 219, \"bottom\": 242, \"left\": 213, \"right\": 240}, {\"name\": \"marks\", \"method\": \"classify\", \"question\": 5, \"row\": 4, \"col\": 0, \"index\": 1, \"top\": 219, \"bottom\": 242, \"left\": 251, \"right\": 277}, {\"name\": \"marks\", \"method\": \"classify\", \"question\": 6, \"row\": 5, \"col\": 0, \"index\": 0, \"top\": 250, \"bottom\": 274, \"left\": 213, \"right\": 240}, {\"name\": \"marks\", \"method\": \"classify\", \"question\": 6, \"row\": 5, \"col\": 0, \"index\": 1, \"top\": 250, \"bottom\": 274, \"left\": 251, \"right\": 277}, {\"name\": \"marks\", \"method\": \"classify\", \"question\": 7, \"row\": 6, \"col\": 0, \"index\": 0, \"top\": 282, \"bottom\": 305.5, \"left\": 213, \"right\": 240}, {\"name\": \"marks\", \"method\": \"classify\", \"question\": 7, \"row\": 6, \"col\": 0, \"index\": 1, \"top\": 282, \"bottom\": 305.5, \"left\": 251, \"right\": 277}, {\"name\": \"marks\", \"method\": \"classify\", \"question\": 8, \"row\": 7, \"col\": 0, \"index\": 0, \"top\": 313, \"bottom\": 337, \"left\": 213, \"right\": 240}, {\"name\": \"marks\", \"method\": \"classify\", \"question\": 8, \"row\": 7, \"col\": 0, \"index\": 1, \"top\": 313, \"bottom\": 337, \"left\": 251, \"right\": 278}, {\"name\": \"marks\", \"method\": \"classify\", \"question\": 9, \"row\": 8, \"col\": 0, \"index\": 0, \"top\": 345, \"bottom\": 368, \"left\": 213, \"right\": 240}, {\"name\": \"marks\", \"method\": \"classify\", \"question\": 9, \"row\": 8, \"col\": 0, \"index\": 1, \"top\": 345, \"bottom\": 368, \"left\": 251, \"right\": 278}, {\"name\": \"marks\", \"method\": \"classify\", \"question\": 10, \"row\": 9, \"col\": 0, \"index\": 0, \"top\": 375, \"bottom\": 398, \"left\": 213, \"right\": 240}, {\"name\": \"marks\", \"method\": \"classify\", \"question\": 10, \"row\": 9, \"col\": 0, \"index\": 1, \"top\": 375, \"bottom\": 398, \"left\": 251, \"right\": 278}, {\"name\": \"marks\", \"method\": \"classify\", \"question\": 11, \"row\": 0, \"col\": 1, \"index\": 0, \"top\": 94, \"bottom\": 118, \"left\": 508, \"right\": 537}, {\"name\": \"marks\", \"method\": \"classify\", \"question\": 11, \"row\": 0, \"col\": 1, \"index\": 1, \"top\": 94, \"bottom\": 118, \"left\": 546, \"right\": 575}, {\"name\": \"marks\", \"method\": \"classify\", \"question\": 12, \"row\": 1, \"col\": 1, \"index\": 0, \"top\": 125, \"bottom\": 149, \"left\": 509, \"right\": 536}, {\"name\": \"marks\", \"method\": \"classify\", \"question\": 12, \"row\": 1, \"col\": 1, \"index\": 1, \"top\": 125, \"bottom\": 149, \"left\": 547, \"right\": 575}, {\"name\": \"marks\", \"method\": \"classify\", \"question\": 13, \"row\": 2, \"col\": 1, \"index\": 0, \"top\": 156, \"bottom\": 181, \"left\": 509, \"right\": 538}, {\"name\": \"marks\", \"method\": \"classify\", \"question\": 13, \"row\": 2, \"col\": 1, \"index\": 1, \"top\": 156, \"bottom\": 181, \"left\": 547, \"right\": 575}, {\"name\": \"marks\", \"method\": \"classify\", \"question\": 14, \"row\": 3, \"col\": 1, \"index\": 0, \"top\": 188, \"bottom\": 211, \"left\": 508, \"right\": 536}, {\"name\": \"marks\", \"method\": \"classify\", \"question\": 14, \"row\": 3, \"col\": 1, \"index\": 1, \"top\": 188, \"bottom\": 211, \"left\": 546, \"right\": 574}, {\"name\": \"marks\", \"method\": \"classify\", \"question\": 15, \"row\": 4, \"col\": 1, \"index\": 0, \"top\": 218, \"bottom\": 243, \"left\": 508.5, \"right\": 536.5}, {\"name\": \"marks\", \"method\": \"classify\", \"question\": 15, \"row\": 4, \"col\": 1, \"index\": 1, \"top\": 218, \"bottom\": 243, \"left\": 546.5, \"right\": 574.5}, {\"name\": \"marks\", \"method\": \"classify\", \"question\": 16, \"row\": 5, \"col\": 1, \"index\": 0, \"top\": 250, \"bottom\": 274, \"left\": 508.5, \"right\": 536.5}, {\"name\": \"marks\", \"method\": \"classify\", \"question\": 16, \"row\": 5, \"col\": 1, \"index\": 1, \"top\": 250, \"bottom\": 274, \"left\": 546.5, \"right\": 574.5}, {\"name\": \"marks\", \"method\": \"classify\", \"question\": 17, \"row\": 6, \"col\": 1, \"index\": 0, \"top\": 281, \"bottom\": 306, \"left\": 507, \"right\": 535}, {\"name\": \"marks\", \"method\": \"classify\", \"question\": 17, \"row\": 6, \"col\": 1, \"index\": 1, \"top\": 281, \"bottom\": 306, \"left\": 545, \"right\": 573}, {\"name\": \"marks\", \"method\": \"classify\", \"question\": 18, \"row\": 7, \"col\": 1, \"index\": 0, \"top\": 312, \"bottom\": 337, \"left\": 507, \"right\": 535}, {\"name\": \"marks\", \"method\": \"classify\", \"question\": 18, \"row\": 7, \"col\": 1, \"index\": 1, \"top\": 312, \"bottom\": 337, \"left\": 545, \"right\": 573}, {\"name\": \"marks\", \"method\": \"classify\", \"question\": 19, \"row\": 8, \"col\": 1, \"index\": 0, \"top\": 343, \"bottom\": 369, \"left\": 507, \"right\": 535}, {\"name\": \"marks\", \"method\": \"classify\", \"question\": 19, \"row\": 8, \"col\": 1, \"index\": 1, \"top\": 343, \"bottom\": 369, \"left\": 545, \"right\": 573}, {\"name\": \"marks\", \"method\": \"classify\", \"question\": 20, \"row\": 9, \"col\": 1, \"index\": 0, \"top\": 374, \"bottom\": 399, \"left\": 507, \"right\": 535}, {\"name\": \"marks\", \"method\": \"classify\", \"question\": 20, \"row\": 9, \"col\": 1, \"index\": 1, \"top\": 374, \"bottom\": 399, \"left\": 545, \"right\": 573}, {\"name\": \"totalMarks\", \"method\": \"classify\", \"index\": 0, \"row\": -2, \"col\": 0, \"left\": 327, \"right\": 354, \"top\": 428, \"bottom\": 451}, {\"name\": \"totalMarks\", \"method\": \"classify\", \"index\": 1, \"row\": -2, \"col\": 1, \"left\": 353, \"right\": 380, \"top\": 427, \"bottom\": 451}, {\"name\": \"totalMarks\", \"method\": \"classify\", \"index\": 2, \"row\": -2, \"col\": 2, \"left\": 379, \"right\": 406, \"top\": 427, \"bottom\": 451}]'"
      ]
     },
     "execution_count": 512,
     "metadata": {},
     "output_type": "execute_result"
    }
   ],
   "source": [
    "import json\n",
    "json.dumps(rois)"
   ]
  },
  {
   "cell_type": "code",
   "execution_count": null,
   "metadata": {},
   "outputs": [],
   "source": []
  },
  {
   "cell_type": "code",
   "execution_count": null,
   "metadata": {},
   "outputs": [],
   "source": []
  }
 ],
 "metadata": {
  "kernelspec": {
   "display_name": "Python 3",
   "language": "python",
   "name": "python3"
  },
  "language_info": {
   "codemirror_mode": {
    "name": "ipython",
    "version": 3
   },
   "file_extension": ".py",
   "mimetype": "text/x-python",
   "name": "python",
   "nbconvert_exporter": "python",
   "pygments_lexer": "ipython3",
   "version": "3.8.5"
  }
 },
 "nbformat": 4,
 "nbformat_minor": 2
}
